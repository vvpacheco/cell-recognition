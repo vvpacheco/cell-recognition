{
 "cells": [
  {
   "cell_type": "markdown",
   "metadata": {},
   "source": [
    "# Cell Recognition Explorer\n",
    "Este notebook é dedicado à experimentação passo a passo das etapas de leitura das imagens, aplicação de algoritmos de pré-processamento até a estimação do número de células via Transformada de Hough"
   ]
  },
  {
   "cell_type": "code",
   "execution_count": null,
   "metadata": {},
   "outputs": [],
   "source": [
    "import pandas as pd\n",
    "import cv2\n",
    "import numpy as np\n",
    "import os\n",
    "from matplotlib import pyplot as plt\n",
    "%matplotlib inline"
   ]
  },
  {
   "cell_type": "code",
   "execution_count": null,
   "metadata": {},
   "outputs": [],
   "source": [
    "# Confirmar versões carregadas das bibliotecas\n",
    "print('OpenCV version:',cv2.__version__)"
   ]
  },
  {
   "cell_type": "markdown",
   "metadata": {},
   "source": [
    "# Análise exploratória das imagens do dataset\n",
    "## Visualização da imagem com seus canais de cor"
   ]
  },
  {
   "cell_type": "code",
   "execution_count": null,
   "metadata": {},
   "outputs": [],
   "source": [
    "my_dpi = 96\n",
    "#arquivos_experimento = ['BloodImage_00023.jpg']\n",
    "caminho_dataset = '../dataset/BCCD/JPEGImages/'\n",
    "#escolha de uma imagem arbitrária para visualização e experimentação\n",
    "img_selecionada = 'BloodImage_00023.jpg'\n",
    "arquivo = '../dataset/BCCD/JPEGImages/' + img_selecionada\n",
    "\n",
    "img_original = cv2.imread(arquivo)\n",
    "#converte para o esquema de cores RGB, pois o opencv carrega em formato BGR\n",
    "img_rgb = cv2.cvtColor(img_original, cv2.COLOR_BGR2RGB)\n",
    "#mostra imagem original\n",
    "plt.imshow(img_rgb)\n"
   ]
  },
  {
   "cell_type": "code",
   "execution_count": null,
   "metadata": {},
   "outputs": [],
   "source": [
    "#exibe o shape da imagem (resolução e canais de cor)\n",
    "print(img_rgb.shape)"
   ]
  },
  {
   "cell_type": "code",
   "execution_count": null,
   "metadata": {},
   "outputs": [],
   "source": [
    "#separa matrizes pelos canais de cor\n",
    "blue, green, red = cv2.split(img_original)"
   ]
  },
  {
   "cell_type": "markdown",
   "metadata": {},
   "source": [
    "### Histograma de cores\n",
    "Neste ponto estamos interessados em visualizar o histograma de cores para uma imagem do dataset"
   ]
  },
  {
   "cell_type": "code",
   "execution_count": null,
   "metadata": {},
   "outputs": [],
   "source": [
    "#Exibe o histograma dos canais de cores para a imagem\n",
    "fig, axs = plt.subplots(1,3, constrained_layout=True, sharey=True)\n",
    "axs[0].hist(red.ravel(),256,[0,256],color='red')\n",
    "axs[0].set_title('Vermelho (R)')\n",
    "axs[1].hist(green.ravel(), 256,[0,256], color='green')\n",
    "axs[1].set_title('Verde (G)')\n",
    "axs[2].hist(blue.ravel(), 256,[0,256], color='blue')\n",
    "axs[2].set_title('Azul (B)')\n",
    "fig.suptitle('Histograma dos canais de cores')\n",
    "plt.show()"
   ]
  },
  {
   "cell_type": "code",
   "execution_count": null,
   "metadata": {},
   "outputs": [],
   "source": [
    "#Mostrando cada canal em escala de cinza:\n",
    "fig2, ax2 = plt.subplots(1,3,constrained_layout=True, sharey=True,figsize=(12,16))\n",
    "ax2[0].imshow(red, cmap='gray')\n",
    "ax2[0].set_title('Vermelho')\n",
    "ax2[1].imshow(green,cmap='gray')\n",
    "ax2[1].set_title('Verde')\n",
    "ax2[2].imshow(blue,cmap='gray')\n",
    "ax2[2].set_title('Azul')\n"
   ]
  },
  {
   "cell_type": "markdown",
   "metadata": {},
   "source": [
    "## Conversão da imagem para escala em tons de cinza"
   ]
  },
  {
   "cell_type": "code",
   "execution_count": null,
   "metadata": {},
   "outputs": [],
   "source": [
    "#converte a imagem para tons de cinza\n",
    "img_gray = cv2.cvtColor(img_original,cv2.COLOR_BGR2GRAY)\n",
    "#exibe imagem em tons de cinza\n",
    "plt.imshow(img_gray,cmap='gray')\n",
    "plt.show()"
   ]
  },
  {
   "cell_type": "code",
   "execution_count": null,
   "metadata": {},
   "outputs": [],
   "source": [
    "img_ruido = cv2.imread('../dataset/images/tons_cinza_ruido.jpg',0)\n",
    "print(img_ruido)\n",
    "plt.imshow(img_ruido,cmap='gray')"
   ]
  },
  {
   "cell_type": "code",
   "execution_count": null,
   "metadata": {},
   "outputs": [],
   "source": [
    "#obtem uma secao de uma imagem com ruido. Confirma as dimensões da imagem, em formato grayscale\n",
    "img_ruido.shape"
   ]
  },
  {
   "cell_type": "code",
   "execution_count": null,
   "metadata": {},
   "outputs": [],
   "source": [
    "img_secao_ruido = img_ruido[0:10,0:10]\n",
    "img_secao_norm  = img_gray[0:10,0:10]\n",
    "fig3, ax3 = plt.subplots(1,2,constrained_layout=True, sharey=True,figsize=(10,10))\n",
    "\n",
    "ax3[0].imshow(img_secao_norm, cmap='gray')\n",
    "ax3[0].set_title('Seção 9x9 da imagem original')\n",
    "\n",
    "ax3[1].imshow(img_secao_ruido, cmap='gray')\n",
    "ax3[1].set_title('Seção 9x9 da imagem com ruído')"
   ]
  },
  {
   "cell_type": "markdown",
   "metadata": {},
   "source": [
    "## Histograma para tons de cinza\n",
    "Após a análise do histograma de cores, vamos observar o histograma da imagem em tons de cinza"
   ]
  },
  {
   "cell_type": "code",
   "execution_count": null,
   "metadata": {},
   "outputs": [],
   "source": [
    "#Vamos analisar o histograma da imagem para avaliar a ocorrência da intensidade\n",
    "intensidades = img_gray.ravel()\n",
    "plt.hist(intensidades,256,[0,256])\n",
    "plt.show()"
   ]
  },
  {
   "cell_type": "code",
   "execution_count": null,
   "metadata": {},
   "outputs": [],
   "source": [
    "#Analisando por bloxplot\n",
    "plt.boxplot(intensidades);"
   ]
  },
  {
   "cell_type": "code",
   "execution_count": null,
   "metadata": {},
   "outputs": [],
   "source": [
    "#obtendo as medidas estatísticas básicas das intensidades\n",
    "pd_intensidades = pd.DataFrame(intensidades)\n",
    "pd_intensidades.describe()"
   ]
  },
  {
   "cell_type": "markdown",
   "metadata": {},
   "source": [
    "## Redução de ruído (Gauss, Mediana e Média)\n",
    "Neste ponto estamos interessados em aplicar os três métodos e comparar os resultados"
   ]
  },
  {
   "cell_type": "code",
   "execution_count": null,
   "metadata": {},
   "outputs": [],
   "source": [
    "def noise_reduction(img_orig, noise_type):\n",
    "    if noise_type == 'gauss':\n",
    "        #parametros ajustados\n",
    "        kern = (3,3) #tamanho do Kernel\n",
    "        #aplicação do algoritmo sobre a imagem\n",
    "        img_non_noisy = cv2.GaussianBlur(img_orig,kern,cv2.BORDER_DEFAULT)\n",
    "    elif noise_type == 'median':\n",
    "        #parametros ajustados\n",
    "        kern_size = 5\n",
    "        img_non_noisy = cv2.medianBlur(img_orig, kern_size)\n",
    "    elif noise_type == 'mean':\n",
    "        #parametros ajustados\n",
    "        kern = (3,3)\n",
    "        img_non_noisy = cv2.blur(img_orig,kern)\n",
    "    return img_non_noisy"
   ]
  },
  {
   "cell_type": "code",
   "execution_count": null,
   "metadata": {},
   "outputs": [],
   "source": [
    "# Define parâmetros para a Transformada de Hough e outros\n",
    "minRadius_esc = 24 #menor raio de célula\n",
    "maxRadius_esc = 58 #maior raio de célula (anterior, usado no cálculo =58)\n",
    "param1_esc = 20    #threshold escolhido para Canny\n",
    "param2_esc = 22    #menor distância entre dois centros\n",
    "\n",
    "#filtro escolhido\n",
    "filtro_esc = 'mean'\n",
    "\n",
    "#output das imagens\n",
    "caminho_output  = '../output/'"
   ]
  },
  {
   "cell_type": "markdown",
   "metadata": {},
   "source": [
    "## Testa as diferentes combinações de filtros"
   ]
  },
  {
   "cell_type": "code",
   "execution_count": null,
   "metadata": {},
   "outputs": [],
   "source": [
    "# carrega dataframe com a lista de imagens\n",
    "df_rbc = pd.read_csv('quantidade_celulas_rbc.csv')"
   ]
  },
  {
   "cell_type": "code",
   "execution_count": null,
   "metadata": {
    "scrolled": true
   },
   "outputs": [],
   "source": [
    "# cria lista de filtros\n",
    "filter_set = ['gauss','median','mean']\n",
    "resultado = []\n",
    "for f in filter_set:\n",
    "    for row in df_rbc.iterrows():\n",
    "        \n",
    "        #percorre cada arquivo do dataframe\n",
    "        arquivo = caminho_dataset + row[1][0]\n",
    "        \n",
    "        #para este arquivo anota o ground truth\n",
    "        total_gt = row[1][1]\n",
    "\n",
    "        img = cv2.imread(arquivo)\n",
    "        \n",
    "        #converte para tons de cinza\n",
    "        gray = cv2.cvtColor(img,cv2.COLOR_BGR2GRAY)\n",
    "        \n",
    "        #aplica o filtro\n",
    "        gray_blur = noise_reduction(gray, f)\n",
    "        \n",
    "        #obtem o número de linhas da imagem\n",
    "        rows = gray_blur.shape[0]\n",
    "        \n",
    "        #aplica a transformada com parâmetros pré-definidos\n",
    "        circles = cv2.HoughCircles(gray_blur,cv2.HOUGH_GRADIENT,1, rows/8,\n",
    "                                param1=param1_esc,param2=param2_esc,\n",
    "                                minRadius=minRadius_esc,maxRadius=maxRadius_esc)\n",
    "        \n",
    "        #estima a quantidade de círculos\n",
    "        qtd_circles = len(circles[0])\n",
    "\n",
    "        #adicionar dados na lista para o dataframe\n",
    "        resultado.append([f, arquivo, total_gt, qtd_circles, (qtd_circles-total_gt)/total_gt])\n",
    "\n",
    "#salvar o dataframe em formato csv\n",
    "res_df = pd.DataFrame(resultado,columns=['filtro','nome_arquivo',\n",
    "                                         'ground_truth','qtd_encontrada','margem_erro'])\n",
    "res_df.to_csv('resultado_filtros.csv')\n",
    "\n",
    "#criar um dataframe com base na lista\n",
    "print('Lista criada')"
   ]
  },
  {
   "cell_type": "code",
   "execution_count": null,
   "metadata": {},
   "outputs": [],
   "source": [
    "res_df.head()\n",
    "# Calcula o mean squared error para cada filtro aplicado\n",
    "for f in filter_set:\n",
    "    Y_true = res_df[res_df['filtro']==f]['ground_truth']\n",
    "    Y_pred = res_df[res_df['filtro']==f]['qtd_encontrada']\n",
    "    MSE = np.square(np.subtract(Y_true,Y_pred)).mean()\n",
    "    variance = np.var(np.subtract(Y_true,Y_pred))\n",
    "    print('MSE para o filtro {filtro}: {mse}'.format(filtro=f,mse=MSE))\n",
    "    print('Variância para o filtro {filtro}: {var}'.format(filtro=f,var=variance))"
   ]
  },
  {
   "cell_type": "code",
   "execution_count": null,
   "metadata": {},
   "outputs": [],
   "source": [
    "#função para marcar os círculos detectados na imagem original\n",
    "#retorna uma imagem com os círculos desenhados em verde, numerados\n",
    "#em vermelho no centro de cada círculo\n",
    "def show_detected_circles(img_source, circles, color_circle):\n",
    "    \n",
    "    img = np.copy(img_source)\n",
    "    # font\n",
    "    font = cv2.FONT_HERSHEY_SIMPLEX\n",
    "\n",
    "    # fontScale\n",
    "    fontScale = 1\n",
    "\n",
    "    # Blue color in BGR\n",
    "    color_text = (255, 0, 0)\n",
    "\n",
    "    # Line thickness of 2 px\n",
    "    thickness = 2\n",
    "    if not (circles is None):\n",
    "        circles = np.uint16(np.around(circles))\n",
    "        v = 0\n",
    "        for i in circles[0,:]:\n",
    "            x = i[0]\n",
    "            y = i[1]\n",
    "            raio = i[2]\n",
    "            # draw the outer circle\n",
    "            cv2.circle(img,(x,y),raio,color_circle, 2)\n",
    "\n",
    "            #print('Circulo: %d , raio: %0.2f Centro:(%d,%d)'% (v,raio,x,y))\n",
    "\n",
    "            # org\n",
    "            org = (x-12, y+12)\n",
    "\n",
    "            #identifica o circulo com o numero do mesmo\n",
    "            img = cv2.putText(img, str(v), org, font, \n",
    "                       fontScale, color_text, thickness, cv2.LINE_AA)\n",
    "\n",
    "            v += 1\n",
    "    return img"
   ]
  },
  {
   "cell_type": "markdown",
   "metadata": {},
   "source": [
    "# Ler anotações para marcar os bounding boxes em uma imagem arbitrária"
   ]
  },
  {
   "cell_type": "code",
   "execution_count": null,
   "metadata": {},
   "outputs": [],
   "source": [
    "local = pd.read_csv('localizacao_celulas.csv')"
   ]
  },
  {
   "cell_type": "code",
   "execution_count": null,
   "metadata": {},
   "outputs": [],
   "source": [
    "#Seleciona as linhas que possuem apenas o caso de teste para RBC\n",
    "#Objetivo: gerar as anotações no arquivo para exibição do ground truth\n",
    "imagem0_locais = local[local['filename'] == img_selecionada]\n",
    "imagem0_locais = imagem0_locais[imagem0_locais['cell_type']=='RBC']"
   ]
  },
  {
   "cell_type": "code",
   "execution_count": null,
   "metadata": {},
   "outputs": [],
   "source": [
    "imagem0_locais.head()\n",
    "imagem0_locais.count()"
   ]
  },
  {
   "cell_type": "code",
   "execution_count": null,
   "metadata": {},
   "outputs": [],
   "source": [
    "img_annotated = img_rgb.copy()\n",
    "for indice, linha in imagem0_locais.iterrows():\n",
    "    #print(linha['xmin'], linha['xmax'], linha['ymin'],linha['ymax'])\n",
    "    cv2.rectangle(img_annotated,(linha['xmin'],linha['ymin']),\n",
    "                                (linha['xmax'],linha['ymax']),(0,255,0),2)\n",
    "\n",
    "fig3, ax3 = plt.subplots(1,2,figsize=(12,16))\n",
    "ax3[0].imshow(img_rgb)\n",
    "ax3[0].set_title('Imagem Original')\n",
    "ax3[1].imshow(img_annotated)\n",
    "ax3[1].set_title('Imagem marcando as RBCs')\n",
    "plt.show()"
   ]
  },
  {
   "cell_type": "code",
   "execution_count": null,
   "metadata": {},
   "outputs": [],
   "source": [
    "# Executar a Transformada de Hough para o dataset, gerando um arquivo de resultado\n",
    "# e imagens de output para visualização/inspeção"
   ]
  },
  {
   "cell_type": "code",
   "execution_count": null,
   "metadata": {},
   "outputs": [],
   "source": [
    "# observar o quantitativo já preparado no arquivo quantidade_celulas_rbc.csv\n",
    "df_rbc.head()"
   ]
  },
  {
   "cell_type": "code",
   "execution_count": null,
   "metadata": {},
   "outputs": [],
   "source": [
    "#Gerar as imagens para os parâmetros escolhidos. Gravar também os \n",
    "#resultados obtidos em dataframe para comparação\n",
    "resultado = []\n",
    "for row in df_rbc.iterrows():\n",
    "\n",
    "    #percorre cada arquivo do dataframe\n",
    "    nome_arquivo = row[1][0]\n",
    "    arquivo = caminho_dataset + row[1][0]\n",
    "\n",
    "    #para este arquivo anota o ground truth\n",
    "    total_gt = row[1][1]\n",
    "\n",
    "    img = cv2.imread(arquivo)\n",
    "\n",
    "    #converte para tons de cinza\n",
    "    gray = cv2.cvtColor(img,cv2.COLOR_BGR2GRAY)\n",
    "\n",
    "    #aplica o filtro\n",
    "    gray_blur = noise_reduction(gray, filtro_esc)\n",
    "\n",
    "    #obtem o número de linhas da imagem\n",
    "    rows = gray_blur.shape[0]\n",
    "\n",
    "    #aplica a transformada com parâmetros pré-definidos\n",
    "    circles = cv2.HoughCircles(gray_blur,cv2.HOUGH_GRADIENT,1, rows/8,\n",
    "                            param1=param1_esc,param2=param2_esc,\n",
    "                            minRadius=minRadius_esc,maxRadius=maxRadius_esc)\n",
    "\n",
    "    #estima a quantidade de círculos\n",
    "    qtd_circles = len(circles[0])\n",
    "        \n",
    "    #adicionar dados na lista para o dataframe\n",
    "    resultado.append([filtro_esc, nome_arquivo, total_gt, qtd_circles, \n",
    "                      (qtd_circles-total_gt)/total_gt])\n",
    "\n",
    "    #marca os círculos em verde, identificando-os\n",
    "    img2 = show_detected_circles(img, circles, (0,255,0))\n",
    "    \n",
    "    #salva em arquivo\n",
    "    arquivo_w = caminho_output +'/com_wbc/'+ row[1][0]\n",
    "    cv2.imwrite(arquivo_w, img2)\n",
    "    \n",
    "#criar um dataframe com base na lista\n",
    "print('Arquivos gerados na pasta:', caminho_output + 'com_wbc')"
   ]
  },
  {
   "cell_type": "code",
   "execution_count": null,
   "metadata": {},
   "outputs": [],
   "source": [
    "res_df = pd.DataFrame(resultado,columns=['filtro','nome_arquivo','ground_truth',\n",
    "                                         'qtd_encontrada','margem_erro'])"
   ]
  },
  {
   "cell_type": "code",
   "execution_count": null,
   "metadata": {},
   "outputs": [],
   "source": [
    "res_df.head()"
   ]
  },
  {
   "cell_type": "code",
   "execution_count": null,
   "metadata": {},
   "outputs": [],
   "source": [
    "res_df.to_csv('resultado_final_com_wbc.csv')"
   ]
  },
  {
   "cell_type": "code",
   "execution_count": null,
   "metadata": {},
   "outputs": [],
   "source": [
    "gt = res_df['ground_truth'][:20]\n",
    "qtd = res_df['qtd_encontrada'][:20]\n",
    "fig = plt.figure()\n",
    "ax = fig.add_axes([0,0,1,1])\n",
    "x = np.arange(len(gt))\n",
    "width = 0.35\n",
    "rects1 = ax.bar(x - width/2,gt, width, label='Referência')\n",
    "rects2 = ax.bar(x + width/2,qtd,width,label='Qtd Encontrada')\n",
    "ax.set_ylabel('Nº Células')\n",
    "ax.legend(loc=4,framealpha=1)\n",
    "\n",
    "ax.bar_label(rects1,padding=4)\n",
    "ax.bar_label(rects2,padding=4)\n",
    "plt.show()\n",
    "#ax.bar(X + 0.25,res_df['qtd_encontrada'], color = 'g', width = 0.25)\n",
    "#res_df.plot.bar(rot=0)"
   ]
  },
  {
   "cell_type": "markdown",
   "metadata": {},
   "source": [
    "# Criação de imagens exemplo de detecção Canny\n",
    "Foram escolhidos parâmetros 10, 20 e 60 como threshold máximo"
   ]
  },
  {
   "cell_type": "code",
   "execution_count": null,
   "metadata": {},
   "outputs": [],
   "source": [
    "item = df_rbc['filename'][23]\n",
    "arquivo = caminho_dataset + item\n",
    "img = cv2.imread(arquivo)\n",
    "img_rgb = cv2.cvtColor(img,cv2.COLOR_BGR2RGB)\n",
    "blue,green,red = cv2.split(img)\n",
    "gray = cv2.cvtColor(img,cv2.COLOR_BGR2GRAY)\n",
    "gray_blur = cv2.GaussianBlur(gray,(3,3),cv2.BORDER_DEFAULT)\n",
    "\n",
    "c1 = cv2.Canny(gray_blur,1, 10)\n",
    "c2 = cv2.Canny(gray_blur,1, 20)\n",
    "c3 = cv2.Canny(gray_blur,1, 60)\n",
    "\n",
    "\n",
    "fig3, ax4 = plt.subplots(1,3,figsize=(20,24))\n",
    "ax4[0].imshow(c1)\n",
    "ax4[0].set_title('Canny com maxValue 10')\n",
    "\n",
    "ax4[1].imshow(c2)\n",
    "ax4[1].set_title('Canny com maxValue 20')\n",
    "\n",
    "ax4[2].imshow(c3)\n",
    "ax4[2].set_title('Canny com maxValue 60')\n",
    "plt.show()"
   ]
  },
  {
   "cell_type": "markdown",
   "metadata": {},
   "source": [
    "# Etapa de remoção das células brancas"
   ]
  },
  {
   "cell_type": "code",
   "execution_count": null,
   "metadata": {},
   "outputs": [],
   "source": [
    "from skimage import measure, __version__\n",
    "from skimage.color import label2rgb"
   ]
  },
  {
   "cell_type": "code",
   "execution_count": null,
   "metadata": {},
   "outputs": [],
   "source": [
    "def create_circles_mask(img_source, circles):\n",
    "    \n",
    "    img = np.zeros((img_source.shape[0],img_source.shape[1]))\n",
    "\n",
    "    white_color = (2255,255,255)\n",
    "    \n",
    "    # Line thickness of 2 px\n",
    "    thickness = 2\n",
    "    if not (circles is None):\n",
    "        circles = np.uint16(np.around(circles))\n",
    "        v = 0\n",
    "        for i in circles[0,:]:\n",
    "            x = i[0]\n",
    "            y = i[1]\n",
    "            raio = i[2]\n",
    "            # draw the outer circle\n",
    "            cv2.circle(img,(x,y),raio,white_color,-1)\n",
    "\n",
    "            v += 1\n",
    "    return img"
   ]
  },
  {
   "cell_type": "code",
   "execution_count": null,
   "metadata": {},
   "outputs": [],
   "source": [
    "arquivo = '../dataset/BCCD/JPEGImages/' + img_selecionada\n",
    "\n",
    "#abre o arquivo\n",
    "img = cv2.imread(arquivo)\n",
    "\n",
    "#converte para tons de cinza\n",
    "gray = cv2.cvtColor(img,cv2.COLOR_BGR2GRAY)\n",
    "\n",
    "#aplica o filtro\n",
    "gray_blur = noise_reduction(gray, filtro_esc)\n",
    "\n",
    "#obtem o número de linhas da imagem\n",
    "rows = gray_blur.shape[0]\n",
    "\n",
    "#aplica a transformada com parâmetros pré-definidos\n",
    "circles = cv2.HoughCircles(gray_blur,cv2.HOUGH_GRADIENT,1, rows/8,\n",
    "                        param1=param1_esc,param2=param2_esc,\n",
    "                        minRadius=minRadius_esc,maxRadius=maxRadius_esc)\n",
    "\n",
    "#cria uma máscara da imagem\n",
    "img_mask = create_circles_mask(gray, circles)\n",
    "\n",
    "#coloca os labels\n",
    "img_label = measure.label(img_mask,connectivity=img_mask.ndim)\n",
    "#plt.imshow(img_label)\n",
    "\n",
    "#aplica um overlay\n",
    "img_label_ovl = label2rgb(img_label, image=img)\n",
    "plt.imshow(img_label_ovl)\n",
    "\n",
    "#properties = ['label','mean_intensity','solidity','perimeter','area']\n",
    "#props = measure.regionprops_table(img_label, img, properties)"
   ]
  },
  {
   "cell_type": "code",
   "execution_count": null,
   "metadata": {},
   "outputs": [],
   "source": [
    "def get_bbox(circles):\n",
    "    b = []\n",
    "    circles = np.uint16(np.around(circles))\n",
    "\n",
    "    for c in circles[0,:]:\n",
    "        xc = c[0]\n",
    "        yc = c[1]\n",
    "        r  = c[2]\n",
    "\n",
    "        if xc >= r:\n",
    "            x1 = xc - r\n",
    "        else:\n",
    "            x1 = 0\n",
    "        \n",
    "        if yc >= r:\n",
    "            y1 = yc - r\n",
    "        else:\n",
    "            y1 = 0\n",
    "        \n",
    "        x2 = xc + r\n",
    "        y2 = yc + r\n",
    "\n",
    "        if x2 < 0:\n",
    "            x2 = 0\n",
    "\n",
    "        if y2 < 0:\n",
    "            y2 = 0\n",
    "            \n",
    "        b.append([(x1,y1),(x2,y2)])\n",
    "        \n",
    "    return b"
   ]
  },
  {
   "cell_type": "code",
   "execution_count": null,
   "metadata": {},
   "outputs": [],
   "source": [
    "print(circles)\n",
    "a = get_bbox(circles)\n",
    "a[0][1:3]\n"
   ]
  },
  {
   "cell_type": "code",
   "execution_count": null,
   "metadata": {},
   "outputs": [],
   "source": [
    "def save_bbox_img(img_source, b):\n",
    "    img = np.copy(img_source)\n",
    "    file = '../output/celula'\n",
    "    v = 0\n",
    "    for qua in b:\n",
    "        v += 1\n",
    "        x1, y1 = qua[0]\n",
    "        x2, y2 = qua[1]\n",
    "\n",
    "        #extrai o segmento de imagem\n",
    "        img_seg = get_bbox_img(img, qua)\n",
    "\n",
    "        cv2.imwrite(file+str(v)+'.jpg',img_seg)\n",
    "    return\n",
    "        "
   ]
  },
  {
   "cell_type": "code",
   "execution_count": null,
   "metadata": {},
   "outputs": [],
   "source": [
    "def get_bbox_img(img_source, bbox):\n",
    "    img = np.copy(img_source)\n",
    "    x1, y1 = bbox[0]\n",
    "    x2, y2 = bbox[1]\n",
    "    return img[y1:y2,x1:x2,:]"
   ]
  },
  {
   "cell_type": "code",
   "execution_count": null,
   "metadata": {},
   "outputs": [],
   "source": [
    "save_bbox_img(img, a)"
   ]
  },
  {
   "cell_type": "code",
   "execution_count": null,
   "metadata": {},
   "outputs": [],
   "source": [
    "fig5, ax5 = plt.subplots(3,3, constrained_layout=True, sharey=True,figsize=(12,8))\n",
    "file = '../output/celula'\n",
    "im=[]\n",
    "v = 0\n",
    "li = 0\n",
    "co = 0\n",
    "for i in range(12):\n",
    "    v += 1\n",
    "    if v > 9:\n",
    "        break\n",
    "    arquivo = file+str(v)+'.jpg'\n",
    "    #print(arquivo)\n",
    "    #im.append(cv2.imread(arquivo))\n",
    "    im = cv2.imread(arquivo)\n",
    "    im = cv2.cvtColor(im,cv2.COLOR_BGR2RGB)\n",
    "    ax5[li][co].imshow(im)\n",
    "    co += 1\n",
    "    if co == 3:\n",
    "        li += 1\n",
    "        co = 0\n",
    "plt.show()"
   ]
  },
  {
   "cell_type": "code",
   "execution_count": null,
   "metadata": {},
   "outputs": [],
   "source": [
    "ax = []\n",
    "hsv = cv2.cvtColor(img, cv2.COLOR_RGB2HSV)\n",
    "for q in a:\n",
    "    i = get_bbox_img(hsv, q)\n",
    "    h, s, v = cv2.split(i)\n",
    "    ax.append(v.ravel().mean())\n",
    "df_ax = pd.Series(ax)\n",
    "df_ax.describe()"
   ]
  },
  {
   "cell_type": "code",
   "execution_count": null,
   "metadata": {},
   "outputs": [],
   "source": [
    "ax = []\n",
    "hsv = cv2.cvtColor(img, cv2.COLOR_BGR2HSV)\n",
    "cont = 0\n",
    "for q in a:\n",
    "    cont += 1\n",
    "    i = get_bbox_img(hsv, q)\n",
    "\n",
    "    h, s, v = cv2.split(i)\n",
    "    \n",
    "    lower_mask = h[:,:] > 115\n",
    "    upper_mask = h[:,:] < 130\n",
    "    \n",
    "    mask = lower_mask*upper_mask\n",
    "    qtd_pixels = np.sum(mask)\n",
    "    print('Recorte {cont}&{pixels}'.format(cont=cont,pixels=qtd_pixels))\n",
    "    ax.append(qtd_pixels)\n",
    "    \n",
    "df_blue_pixels = pd.DataFrame(ax)"
   ]
  },
  {
   "cell_type": "code",
   "execution_count": null,
   "metadata": {},
   "outputs": [],
   "source": [
    "df_ax = pd.Series(ax)\n",
    "df_ax.head()"
   ]
  },
  {
   "cell_type": "code",
   "execution_count": null,
   "metadata": {},
   "outputs": [],
   "source": [
    "#Reprodução do código de máscara para a célula branca\n",
    "arquivo = '../output/celula1.jpg'\n",
    "img = cv2.imread(arquivo)\n",
    "\n",
    "#converte para o espaço HSV\n",
    "hsv = cv2.cvtColor(img, cv2.COLOR_BGR2HSV)\n",
    "img = cv2.cvtColor(img, cv2.COLOR_BGR2RGB)\n",
    "\n",
    "#realiza o split dos canais\n",
    "h, s, v = cv2.split(hsv)\n",
    "\n",
    "#define os lower/upper bounds\n",
    "lower_mask = h[:,:] > 115 #valores predefinidos\n",
    "upper_mask = h[:,:] < 130 #para upper e lower\n",
    "\n",
    "mask = lower_mask * upper_mask #multiplicação realiza um AND\n",
    "\n",
    "fig6, ax6 = plt.subplots(1,3, constrained_layout=True, sharey=True,figsize=(12,8))\n",
    "\n",
    "ax6[0].imshow(img)  ##imagem original\n",
    "ax6[0].set_title('Imagem original')\n",
    "\n",
    "ax6[1].imshow(mask,cmap='gray')  ##máscara aplicada\n",
    "ax6[1].set_title('Máscara em formato binário')\n",
    "\n",
    "red = img[:,:,0]*mask #filtra dentro dos canais\n",
    "green = img[:,:,1]*mask\n",
    "blue = img[:,:,2]*mask\n",
    "\n",
    "\n",
    "img2 = cv2.merge([red,green,blue])\n",
    "ax6[2].imshow(img2)\n",
    "ax6[2].set_title('Filtro de máscara aplicado sobre a imagem')\n",
    "plt.show()"
   ]
  },
  {
   "cell_type": "code",
   "execution_count": null,
   "metadata": {},
   "outputs": [],
   "source": [
    "print(mask)"
   ]
  },
  {
   "cell_type": "code",
   "execution_count": null,
   "metadata": {},
   "outputs": [],
   "source": [
    "#Gerar as imagens para os parâmetros escolhidos. Gravar também os \n",
    "#resultados obtidos em dataframe para comparação\n",
    "resultado = []\n",
    "for row in df_rbc.iterrows():\n",
    "\n",
    "    #percorre cada arquivo do dataframe\n",
    "    nome_arquivo = row[1][0]\n",
    "    arquivo = caminho_dataset + row[1][0]\n",
    "\n",
    "    #para este arquivo anota o ground truth\n",
    "    total_gt = row[1][1]\n",
    "\n",
    "    img = cv2.imread(arquivo)\n",
    "\n",
    "    #converte para tons de cinza\n",
    "    gray = cv2.cvtColor(img,cv2.COLOR_BGR2GRAY)\n",
    "\n",
    "    #aplica o filtro\n",
    "    gray_blur = noise_reduction(gray, filtro_esc)\n",
    "\n",
    "    #obtem o número de linhas da imagem\n",
    "    rows = gray_blur.shape[0]\n",
    "\n",
    "    #aplica a transformada com parâmetros pré-definidos\n",
    "    circles = cv2.HoughCircles(gray_blur,cv2.HOUGH_GRADIENT,1, rows/8,\n",
    "                            param1=param1_esc,param2=param2_esc,\n",
    "                            minRadius=minRadius_esc,maxRadius=maxRadius_esc)\n",
    "\n",
    "    #estima a quantidade de círculos total\n",
    "    qtd_circles = len(circles[0])\n",
    "\n",
    "    #quantifica as células brancas (wbc)\n",
    "    bbox = get_bbox(circles)  #obtem os bounding boxes das celulas\n",
    "\n",
    "    #converte a imagem original para HSV\n",
    "    hsv = cv2.cvtColor(img, cv2.COLOR_BGR2HSV)\n",
    "    qtd_wbc = qtd_rbc = 0\n",
    "    circles_wbc = []\n",
    "    circles_rbc = []\n",
    "    cont = 0\n",
    "    for bb in bbox:\n",
    "        ibb = get_bbox_img(hsv, bb) #faz um crop da imagem no espaço de cor HSV\n",
    "\n",
    "        h, s, v = cv2.split(ibb) # faz o split, separando os canais\n",
    "\n",
    "        lower_mask = h[:,:] > 115 #aplica lower e upper pré-definidos\n",
    "        upper_mask = h[:,:] < 130\n",
    "\n",
    "        mask = lower_mask*upper_mask  #define a mascara total\n",
    "        qtd_pixels = np.sum(mask)     #soma a quantidade de pixels\n",
    "        \n",
    "        xc = circles[0][cont][0]\n",
    "        yc = circles[0][cont][1]\n",
    "        raio = circles[0][cont][2]\n",
    "        \n",
    "        if qtd_pixels > 1000:  #quantidade predefinida de pixels azuis para wbc\n",
    "            qtd_wbc += 1 #incrementa wbc\n",
    "            circles_wbc.append(True)\n",
    "            circles_rbc.append(False)\n",
    "        else:\n",
    "            qtd_rbc += 1 #incrementa rbc\n",
    "            circles_wbc.append(False)\n",
    "            circles_rbc.append(True)\n",
    "        #incrementa contador de circulos\n",
    "        cont += 1\n",
    "\n",
    "    c_wbc = np.array([circles[0][circles_wbc]])\n",
    "    c_rbc = np.array([circles[0][circles_rbc]])\n",
    "\n",
    "\n",
    "    #adicionar dados na lista para o dataframe\n",
    "    resultado.append([filtro_esc, nome_arquivo, total_gt, qtd_circles, qtd_wbc, qtd_rbc, \\\n",
    "                      (qtd_rbc-total_gt)/total_gt])\n",
    "\n",
    "    #marca os círculos das celulas vermelhas em verde, identificando-os\n",
    "    color = (0,255,0)\n",
    "    img2 = show_detected_circles(img, c_rbc, color)\n",
    "    \n",
    "    if qtd_wbc > 0:\n",
    "        #marca os círculos das células brancas em amarelo, indentificando-os\n",
    "        color = (255,255,0)\n",
    "        img2 = show_detected_circles(img2, c_wbc, color)    \n",
    "    \n",
    "    #salva em arquivo\n",
    "    arquivo_w = caminho_output +'/sem_wbc/'+ row[1][0]\n",
    "    cv2.imwrite(arquivo_w, img2)\n",
    "    \n",
    "#criar um dataframe com base na lista\n",
    "print('Arquivos gerados na pasta:', caminho_output + 'sem_wbc')"
   ]
  },
  {
   "cell_type": "code",
   "execution_count": null,
   "metadata": {},
   "outputs": [],
   "source": [
    "res_df2 = pd.DataFrame(resultado,columns=['filtro','nome_arquivo',\n",
    "                                          'ground_truth','qtd_encontrada',\n",
    "                                          'qtd_wbc','qtd_rbc','margem_erro'])"
   ]
  },
  {
   "cell_type": "code",
   "execution_count": null,
   "metadata": {},
   "outputs": [],
   "source": [
    "res_df2.head()"
   ]
  },
  {
   "cell_type": "code",
   "execution_count": null,
   "metadata": {},
   "outputs": [],
   "source": [
    "#define a acuracia para cada imagem\n",
    "res_df2['acuracia'] = res_df2['qtd_encontrada']/res_df2['ground_truth']"
   ]
  },
  {
   "cell_type": "code",
   "execution_count": null,
   "metadata": {},
   "outputs": [],
   "source": [
    "#exibe as estatisticas para os resultados encontrados de acuracia (media, dp, mediana, etc)\n",
    "res_df2['acuracia'].describe()"
   ]
  },
  {
   "cell_type": "code",
   "execution_count": null,
   "metadata": {},
   "outputs": [],
   "source": [
    "#ao inves de trabalhar com acuracia, partimos para o uso da margem de erro\n",
    "res_df2['margem_erro'].describe()"
   ]
  },
  {
   "cell_type": "code",
   "execution_count": null,
   "metadata": {},
   "outputs": [],
   "source": [
    "desvio = 0.575844\n",
    "print(desvio*1.5)\n",
    "print(np.sum(res_df2['margem_erro']>(1.5*desvio)))\n",
    "res_df2[res_df2['margem_erro']>(1.5*desvio)]\n",
    "\n",
    "zero = np.sum(res_df2['margem_erro']==0)\n",
    "maior_zero = np.sum(res_df2['margem_erro']>0)\n",
    "menor_zero = np.sum(res_df2['margem_erro']<0)\n",
    "print('Erro == 0..:',zero)\n",
    "print('Erro > 0..:',maior_zero)\n",
    "print('Erro < 0..:',menor_zero)\n",
    "print('Total.....:',24+258+67+15)"
   ]
  },
  {
   "cell_type": "code",
   "execution_count": null,
   "metadata": {},
   "outputs": [],
   "source": [
    "res_df2[res_df2['margem_erro']==0]"
   ]
  },
  {
   "cell_type": "code",
   "execution_count": null,
   "metadata": {},
   "outputs": [],
   "source": [
    "plt.boxplot(res_df2['margem_erro'])"
   ]
  },
  {
   "cell_type": "code",
   "execution_count": null,
   "metadata": {},
   "outputs": [],
   "source": [
    "b = np.uint8(res_df2.shape[0]/4)\n",
    "plt.hist(res_df2['margem_erro'],bins=b)\n",
    "plt.show()"
   ]
  },
  {
   "cell_type": "code",
   "execution_count": null,
   "metadata": {},
   "outputs": [],
   "source": [
    "import scipy\n",
    "mean = 0.352883\n",
    "standard_deviation = 0.575844\n",
    "\n",
    "x_values = np.arange(-5, 5, 0.1)\n",
    "y_values = scipy.stats.norm(mean, standard_deviation)\n",
    "\n",
    "plt.plot(x_values, y_values.pdf(x_values))"
   ]
  },
  {
   "cell_type": "code",
   "execution_count": null,
   "metadata": {},
   "outputs": [],
   "source": [
    "np.sum(res_df2['acuracia']<1)"
   ]
  },
  {
   "cell_type": "code",
   "execution_count": null,
   "metadata": {},
   "outputs": [],
   "source": [
    "plt.boxplot(res_df2['acuracia'])"
   ]
  },
  {
   "cell_type": "code",
   "execution_count": null,
   "metadata": {},
   "outputs": [],
   "source": [
    "res_df2[res_df2['acuracia']>2.29][['nome_arquivo','acuracia']]"
   ]
  },
  {
   "cell_type": "code",
   "execution_count": null,
   "metadata": {},
   "outputs": [],
   "source": [
    "res_df2[res_df2['nome_arquivo']=='BloodImage_00270.jpg']"
   ]
  },
  {
   "cell_type": "code",
   "execution_count": null,
   "metadata": {},
   "outputs": [],
   "source": [
    "res_df2.to_csv('resultado_final_sem_wbc.csv')"
   ]
  },
  {
   "cell_type": "code",
   "execution_count": null,
   "metadata": {},
   "outputs": [],
   "source": [
    "gt = res_df2['ground_truth'][:20]\n",
    "qtd = res_df2['qtd_rbc'][:20]\n",
    "fig = plt.figure()\n",
    "ax = fig.add_axes([0,0,1,1])\n",
    "x = np.arange(len(gt))\n",
    "width = 0.35\n",
    "rects1 = ax.bar(x - width/2,gt, width, label='Referência')\n",
    "rects2 = ax.bar(x + width/2,qtd,width,label='Qtd Encontrada')\n",
    "ax.set_ylabel('Nº Células')\n",
    "ax.legend(loc=4,framealpha=1)\n",
    "\n",
    "ax.bar_label(rects1,padding=4)\n",
    "ax.bar_label(rects2,padding=4)\n",
    "plt.show()"
   ]
  },
  {
   "cell_type": "code",
   "execution_count": null,
   "metadata": {},
   "outputs": [],
   "source": [
    "#montar imagem comparativa para o arquivo BloodImage_000270.jpg\n",
    "\n",
    "#arquivos_experimento = ['BloodImage_00023.jpg']\n",
    "caminho_dataset = '../dataset/BCCD/JPEGImages/'\n",
    "\n",
    "#escolha de uma imagem específica para visualização e experimentação\n",
    "img_selecionada = 'BloodImage_00270.jpg'\n",
    "arquivo = '../dataset/BCCD/JPEGImages/' + img_selecionada\n",
    "\n",
    "img270 = cv2.imread('../output/sem_wbc/' + img_selecionada)\n",
    "img270 = cv2.cvtColor(img270, cv2.COLOR_BGR2RGB)\n",
    "\n",
    "#carrega a imagem original para fazer a anotação\n",
    "img_orig = cv2.imread(caminho_dataset + img_selecionada)\n",
    "img_orig = cv2.cvtColor(img_orig, cv2.COLOR_BGR2RGB)\n",
    "\n",
    "#obter as anotações \n",
    "imagem0_locais = local[local['filename'] == img_selecionada]\n",
    "#imagem0_locais = imagem0_locais[imagem0_locais['cell_type']=='RBC']\n",
    "\n",
    "img_annotated = img_orig.copy()\n",
    "for indice, linha in imagem0_locais.iterrows():\n",
    "    #print(linha['xmin'], linha['xmax'], linha['ymin'],linha['ymax'])\n",
    "    if linha['cell_type'] == 'RBC':\n",
    "        color = (0,255,0)\n",
    "    elif linha['cell_type'] == 'WBC':\n",
    "        color = (0,255,255)\n",
    "    elif linha['cell_type'] == 'Platelets':\n",
    "        color = (0,0,255)\n",
    "    cv2.rectangle(img_annotated,(linha['xmin'],linha['ymin']),\n",
    "                                (linha['xmax'],linha['ymax']),color,2)\n",
    "\n",
    "fig3, ax3 = plt.subplots(1,2,figsize=(16,22))\n",
    "ax3[0].imshow(img270)\n",
    "ax3[0].set_title('(a) círculos detectados pela Transformada de Hough' )\n",
    "ax3[1].imshow(img_annotated)\n",
    "ax3[1].set_title('(b) anotações do dataset original')\n",
    "plt.show()\n"
   ]
  }
 ],
 "metadata": {
  "kernelspec": {
   "display_name": "Python 3 (ipykernel)",
   "language": "python",
   "name": "python3"
  },
  "language_info": {
   "codemirror_mode": {
    "name": "ipython",
    "version": 3
   },
   "file_extension": ".py",
   "mimetype": "text/x-python",
   "name": "python",
   "nbconvert_exporter": "python",
   "pygments_lexer": "ipython3",
   "version": "3.7.11"
  }
 },
 "nbformat": 4,
 "nbformat_minor": 4
}
