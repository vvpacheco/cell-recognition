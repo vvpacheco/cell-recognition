{
 "cells": [
  {
   "cell_type": "code",
   "execution_count": 1,
   "id": "1fe6f3b3",
   "metadata": {},
   "outputs": [],
   "source": [
    "import xml.etree.ElementTree as ET\n",
    "from glob import glob\n",
    "import pandas as pd\n",
    "import numpy as np"
   ]
  },
  {
   "cell_type": "code",
   "execution_count": 2,
   "id": "2fee372b",
   "metadata": {},
   "outputs": [],
   "source": [
    "#A pasta annotations contém arquivos xml para cada imagem\n",
    "#Estes arquivos xml possuem os metadados da imagem, tais como o posicionamento das células\n",
    "annotations = glob('../dataset/BCCD/Annotations/*.xml')\n"
   ]
  },
  {
   "cell_type": "code",
   "execution_count": 3,
   "id": "fbba5ff8",
   "metadata": {},
   "outputs": [],
   "source": [
    "df = []\n",
    "cnt = 0\n",
    "for file in annotations:\n",
    "    filename = file.split('\\\\')[-1]\n",
    "    filename =filename.split('.')[0] + '.jpg'\n",
    "    row = []\n",
    "    parsedXML = ET.parse(file)\n",
    "    #percorre os nós do XML para identificar os bounderies boxes de cada célula na imagem\n",
    "    for node in parsedXML.getroot().iter('object'):\n",
    "        blood_cells = node.find('name').text\n",
    "        xmin = int(node.find('bndbox/xmin').text)\n",
    "        xmax = int(node.find('bndbox/xmax').text)\n",
    "        ymin = int(node.find('bndbox/ymin').text)\n",
    "        ymax = int(node.find('bndbox/ymax').text)\n",
    "\n",
    "        #cada linha representa a localização de uma célula\n",
    "        row = [filename, blood_cells, xmin, xmax, ymin, ymax]\n",
    "        \n",
    "        #adiciona ao dataframe cada linha de célula localizada\n",
    "        df.append(row)\n",
    "        cnt += 1\n",
    "\n",
    "data = pd.DataFrame(df, columns=['filename', 'cell_type', 'xmin', 'xmax', 'ymin', 'ymax'])"
   ]
  },
  {
   "cell_type": "code",
   "execution_count": 4,
   "id": "2b04fab3",
   "metadata": {},
   "outputs": [
    {
     "data": {
      "text/html": [
       "<div>\n",
       "<style scoped>\n",
       "    .dataframe tbody tr th:only-of-type {\n",
       "        vertical-align: middle;\n",
       "    }\n",
       "\n",
       "    .dataframe tbody tr th {\n",
       "        vertical-align: top;\n",
       "    }\n",
       "\n",
       "    .dataframe thead th {\n",
       "        text-align: right;\n",
       "    }\n",
       "</style>\n",
       "<table border=\"1\" class=\"dataframe\">\n",
       "  <thead>\n",
       "    <tr style=\"text-align: right;\">\n",
       "      <th></th>\n",
       "      <th>filename</th>\n",
       "      <th>cell_type</th>\n",
       "      <th>xmin</th>\n",
       "      <th>xmax</th>\n",
       "      <th>ymin</th>\n",
       "      <th>ymax</th>\n",
       "    </tr>\n",
       "  </thead>\n",
       "  <tbody>\n",
       "    <tr>\n",
       "      <th>0</th>\n",
       "      <td>BloodImage_00000.jpg</td>\n",
       "      <td>WBC</td>\n",
       "      <td>260</td>\n",
       "      <td>491</td>\n",
       "      <td>177</td>\n",
       "      <td>376</td>\n",
       "    </tr>\n",
       "    <tr>\n",
       "      <th>1</th>\n",
       "      <td>BloodImage_00000.jpg</td>\n",
       "      <td>RBC</td>\n",
       "      <td>78</td>\n",
       "      <td>184</td>\n",
       "      <td>336</td>\n",
       "      <td>435</td>\n",
       "    </tr>\n",
       "    <tr>\n",
       "      <th>2</th>\n",
       "      <td>BloodImage_00000.jpg</td>\n",
       "      <td>RBC</td>\n",
       "      <td>63</td>\n",
       "      <td>169</td>\n",
       "      <td>237</td>\n",
       "      <td>336</td>\n",
       "    </tr>\n",
       "    <tr>\n",
       "      <th>3</th>\n",
       "      <td>BloodImage_00000.jpg</td>\n",
       "      <td>RBC</td>\n",
       "      <td>214</td>\n",
       "      <td>320</td>\n",
       "      <td>362</td>\n",
       "      <td>461</td>\n",
       "    </tr>\n",
       "    <tr>\n",
       "      <th>4</th>\n",
       "      <td>BloodImage_00000.jpg</td>\n",
       "      <td>RBC</td>\n",
       "      <td>414</td>\n",
       "      <td>506</td>\n",
       "      <td>352</td>\n",
       "      <td>445</td>\n",
       "    </tr>\n",
       "  </tbody>\n",
       "</table>\n",
       "</div>"
      ],
      "text/plain": [
       "               filename cell_type  xmin  xmax  ymin  ymax\n",
       "0  BloodImage_00000.jpg       WBC   260   491   177   376\n",
       "1  BloodImage_00000.jpg       RBC    78   184   336   435\n",
       "2  BloodImage_00000.jpg       RBC    63   169   237   336\n",
       "3  BloodImage_00000.jpg       RBC   214   320   362   461\n",
       "4  BloodImage_00000.jpg       RBC   414   506   352   445"
      ]
     },
     "execution_count": 4,
     "metadata": {},
     "output_type": "execute_result"
    }
   ],
   "source": [
    "data.head()"
   ]
  },
  {
   "cell_type": "code",
   "execution_count": 5,
   "id": "f073394c",
   "metadata": {},
   "outputs": [],
   "source": [
    "#seleciona apenas células vermelhas\n",
    "only_rbcs = data[data['cell_type'] == 'RBC']"
   ]
  },
  {
   "cell_type": "code",
   "execution_count": 6,
   "id": "a4602a63",
   "metadata": {},
   "outputs": [
    {
     "data": {
      "text/html": [
       "<div>\n",
       "<style scoped>\n",
       "    .dataframe tbody tr th:only-of-type {\n",
       "        vertical-align: middle;\n",
       "    }\n",
       "\n",
       "    .dataframe tbody tr th {\n",
       "        vertical-align: top;\n",
       "    }\n",
       "\n",
       "    .dataframe thead th {\n",
       "        text-align: right;\n",
       "    }\n",
       "</style>\n",
       "<table border=\"1\" class=\"dataframe\">\n",
       "  <thead>\n",
       "    <tr style=\"text-align: right;\">\n",
       "      <th></th>\n",
       "      <th>filename</th>\n",
       "      <th>cell_type</th>\n",
       "      <th>xmin</th>\n",
       "      <th>xmax</th>\n",
       "      <th>ymin</th>\n",
       "      <th>ymax</th>\n",
       "    </tr>\n",
       "  </thead>\n",
       "  <tbody>\n",
       "    <tr>\n",
       "      <th>1</th>\n",
       "      <td>BloodImage_00000.jpg</td>\n",
       "      <td>RBC</td>\n",
       "      <td>78</td>\n",
       "      <td>184</td>\n",
       "      <td>336</td>\n",
       "      <td>435</td>\n",
       "    </tr>\n",
       "    <tr>\n",
       "      <th>2</th>\n",
       "      <td>BloodImage_00000.jpg</td>\n",
       "      <td>RBC</td>\n",
       "      <td>63</td>\n",
       "      <td>169</td>\n",
       "      <td>237</td>\n",
       "      <td>336</td>\n",
       "    </tr>\n",
       "    <tr>\n",
       "      <th>3</th>\n",
       "      <td>BloodImage_00000.jpg</td>\n",
       "      <td>RBC</td>\n",
       "      <td>214</td>\n",
       "      <td>320</td>\n",
       "      <td>362</td>\n",
       "      <td>461</td>\n",
       "    </tr>\n",
       "    <tr>\n",
       "      <th>4</th>\n",
       "      <td>BloodImage_00000.jpg</td>\n",
       "      <td>RBC</td>\n",
       "      <td>414</td>\n",
       "      <td>506</td>\n",
       "      <td>352</td>\n",
       "      <td>445</td>\n",
       "    </tr>\n",
       "    <tr>\n",
       "      <th>5</th>\n",
       "      <td>BloodImage_00000.jpg</td>\n",
       "      <td>RBC</td>\n",
       "      <td>555</td>\n",
       "      <td>640</td>\n",
       "      <td>356</td>\n",
       "      <td>455</td>\n",
       "    </tr>\n",
       "  </tbody>\n",
       "</table>\n",
       "</div>"
      ],
      "text/plain": [
       "               filename cell_type  xmin  xmax  ymin  ymax\n",
       "1  BloodImage_00000.jpg       RBC    78   184   336   435\n",
       "2  BloodImage_00000.jpg       RBC    63   169   237   336\n",
       "3  BloodImage_00000.jpg       RBC   214   320   362   461\n",
       "4  BloodImage_00000.jpg       RBC   414   506   352   445\n",
       "5  BloodImage_00000.jpg       RBC   555   640   356   455"
      ]
     },
     "execution_count": 6,
     "metadata": {},
     "output_type": "execute_result"
    }
   ],
   "source": [
    "only_rbcs.head()"
   ]
  },
  {
   "cell_type": "code",
   "execution_count": 7,
   "id": "8c59b6ec",
   "metadata": {},
   "outputs": [],
   "source": [
    "cells_qty = only_rbcs.groupby('filename')['filename'].agg([np.count_nonzero]).rename(columns={'count_nonzero':'total'})"
   ]
  },
  {
   "cell_type": "code",
   "execution_count": 9,
   "id": "2b13c650",
   "metadata": {},
   "outputs": [],
   "source": [
    "cells_qty.to_csv('quantidade_celulas_rbc.csv')"
   ]
  },
  {
   "cell_type": "code",
   "execution_count": 10,
   "id": "9abec211",
   "metadata": {},
   "outputs": [
    {
     "data": {
      "text/plain": [
       "4155"
      ]
     },
     "execution_count": 10,
     "metadata": {},
     "output_type": "execute_result"
    }
   ],
   "source": [
    "cells_qty['total'].sum()"
   ]
  },
  {
   "cell_type": "code",
   "execution_count": 7,
   "id": "e0f89479",
   "metadata": {},
   "outputs": [],
   "source": [
    "data.to_csv('localizacao_celulas.csv',index_label='Indice')"
   ]
  },
  {
   "cell_type": "code",
   "execution_count": null,
   "id": "99803165",
   "metadata": {},
   "outputs": [],
   "source": []
  }
 ],
 "metadata": {
  "kernelspec": {
   "display_name": "Python 3",
   "language": "python",
   "name": "python3"
  },
  "language_info": {
   "codemirror_mode": {
    "name": "ipython",
    "version": 3
   },
   "file_extension": ".py",
   "mimetype": "text/x-python",
   "name": "python",
   "nbconvert_exporter": "python",
   "pygments_lexer": "ipython3",
   "version": "3.9.5"
  }
 },
 "nbformat": 4,
 "nbformat_minor": 5
}
